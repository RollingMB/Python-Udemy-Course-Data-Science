{
 "cells": [
  {
   "cell_type": "markdown",
   "metadata": {},
   "source": [
    "# Law of Large Numbers"
   ]
  },
  {
   "cell_type": "code",
   "execution_count": 8,
   "metadata": {},
   "outputs": [],
   "source": [
    "#Test the Law of Large Number for N random normally distributed numbers with mean=0 and stddev=1\n",
    "#Create a Python Script that will count how many of these numbers fall between -1 and 1 and divide by the total quantity of N\n",
    "#You know that E(X) =68.2%\n",
    "#Check that Mean(X)-> E(X) as you return your script while increasing N"
   ]
  },
  {
   "cell_type": "code",
   "execution_count": 9,
   "metadata": {
    "scrolled": true
   },
   "outputs": [
    {
     "name": "stdout",
     "output_type": "stream",
     "text": [
      "688\n",
      "1000\n",
      "68.8\n"
     ]
    }
   ],
   "source": [
    "import numpy as np\n",
    "from numpy.random import randn\n",
    "\n",
    "N=1000\n",
    "counter=0\n",
    "\n",
    "for i in randn(N):\n",
    "    if i>-1 and i<1:\n",
    "        counter = counter+1\n",
    "print (counter)\n",
    "print (N)\n",
    "result = (counter / N)*100\n",
    "print (result)"
   ]
  },
  {
   "cell_type": "code",
   "execution_count": 10,
   "metadata": {},
   "outputs": [
    {
     "name": "stdout",
     "output_type": "stream",
     "text": [
      "6730\n",
      "10000\n",
      "67.30000000000001\n"
     ]
    }
   ],
   "source": [
    "import numpy as np\n",
    "from numpy.random import randn\n",
    "\n",
    "N=10000\n",
    "counter=0\n",
    "\n",
    "for i in randn(N):\n",
    "    if i>-1 and i<1:\n",
    "        counter = counter+1\n",
    "print (counter)\n",
    "print (N)\n",
    "result = (counter / N)*100\n",
    "print (result)"
   ]
  },
  {
   "cell_type": "code",
   "execution_count": 11,
   "metadata": {},
   "outputs": [
    {
     "name": "stdout",
     "output_type": "stream",
     "text": [
      "68320\n",
      "100000\n",
      "68.32000000000001\n"
     ]
    }
   ],
   "source": [
    "import numpy as np\n",
    "from numpy.random import randn\n",
    "\n",
    "N=100000\n",
    "counter=0\n",
    "\n",
    "for i in randn(N):\n",
    "    if i>-1 and i<1:\n",
    "        counter = counter+1\n",
    "print (counter)\n",
    "print (N)\n",
    "result = (counter / N)*100\n",
    "print (result)"
   ]
  },
  {
   "cell_type": "code",
   "execution_count": null,
   "metadata": {},
   "outputs": [],
   "source": []
  },
  {
   "cell_type": "code",
   "execution_count": null,
   "metadata": {},
   "outputs": [],
   "source": []
  }
 ],
 "metadata": {
  "kernelspec": {
   "display_name": "Python 3",
   "language": "python",
   "name": "python3"
  },
  "language_info": {
   "codemirror_mode": {
    "name": "ipython",
    "version": 3
   },
   "file_extension": ".py",
   "mimetype": "text/x-python",
   "name": "python",
   "nbconvert_exporter": "python",
   "pygments_lexer": "ipython3",
   "version": "3.6.5"
  }
 },
 "nbformat": 4,
 "nbformat_minor": 2
}
